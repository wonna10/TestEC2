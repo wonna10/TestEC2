{
  "nbformat": 4,
  "nbformat_minor": 0,
  "metadata": {
    "colab": {
      "provenance": [],
      "include_colab_link": true
    },
    "kernelspec": {
      "name": "python3",
      "display_name": "Python 3"
    }
  },
  "cells": [
    {
      "cell_type": "markdown",
      "metadata": {
        "id": "view-in-github",
        "colab_type": "text"
      },
      "source": [
        "<a href=\"https://colab.research.google.com/github/wonna10/TestEC2/blob/main/10_014_Lesson_1_(2023).ipynb\" target=\"_parent\"><img src=\"https://colab.research.google.com/assets/colab-badge.svg\" alt=\"Open In Colab\"/></a>"
      ]
    },
    {
      "cell_type": "markdown",
      "metadata": {
        "id": "27tptyFx28Y7"
      },
      "source": [
        "## 10.014 Computational Thinking For Design (Weeks 8 - 13)\n",
        "# Lesson 1 - Introduction To Python\n",
        "\n",
        "© Singapore University of Technology and Design, 2023</color>"
      ]
    },
    {
      "cell_type": "markdown",
      "metadata": {
        "id": "CQAhXzBEk1l_"
      },
      "source": [
        "## Lesson Material"
      ]
    },
    {
      "cell_type": "markdown",
      "metadata": {
        "id": "6BxnvgYoFtdi"
      },
      "source": [
        "###  The ```print()``` function displays information on the screen"
      ]
    },
    {
      "cell_type": "markdown",
      "metadata": {
        "id": "KSzlQLwi3J1h"
      },
      "source": [
        "The simplest python program is\n",
        "\n",
        "```python\n",
        "print('Hello World')\n",
        "```\n",
        "\n",
        "While simple, this single line of code does quite a lot.\n",
        "\n",
        "- This is a command to display the information ```Hello World``` on the screen of a computer.\n",
        "\n",
        "- This is achieved using the ```print``` **built-in function**.\n",
        "\n",
        "- A **built-in function** is a function that is provided as part of the Python programming language.\n",
        "\n",
        "- The **arguments** of the function are the data to be displayed on the screen.\n",
        "\n",
        "- In the example above, there is only one argument, ```'Hello World'```, which is of a **data type** called **string**.\n",
        "\n",
        "\n",
        "\n",
        "\n"
      ]
    },
    {
      "cell_type": "code",
      "metadata": {
        "id": "nuVFs8z-G54j",
        "colab": {
          "base_uri": "https://localhost:8080/"
        },
        "outputId": "b3696923-af1c-4a92-b142-96a8cbeaaf76"
      },
      "source": [
        "#In this code block, modify the code to display any message you like\n",
        "print(\"Hello World\")"
      ],
      "execution_count": null,
      "outputs": [
        {
          "output_type": "stream",
          "name": "stdout",
          "text": [
            "Hello World\n"
          ]
        }
      ]
    },
    {
      "cell_type": "markdown",
      "metadata": {
        "id": "snlNcEmzGHuc"
      },
      "source": [
        "### There are three data types: ```int``` , ```float``` and ```str```."
      ]
    },
    {
      "cell_type": "markdown",
      "metadata": {
        "id": "1acrjihL4dIC"
      },
      "source": [
        "Let's **execute** the ```print``` function again, this time passing three **arguments** to it.\n",
        "\n",
        "The **arguments** are separated by commas.\n",
        "\n",
        "```python\n",
        "print('Zoo', 1, 1.0)\n",
        "```\n",
        "\n",
        "This serves to illustrate three basic **data types**\n",
        "\n",
        "- **string** (```str```) strings are meant to store text and can be declared by enclosing them between single quotes or double quotes e.g. ```'zoo'``` and ```\"zoo\"```\n",
        "- **integer** (```int```) the integer data type is used to store whole numbers\n",
        "- **float** (```float```) short for \"floating point numbers\", this data type is meant to store numbers that have a decimal place.\n",
        "\n",
        "> Optional. You may want to read more about floating point numbers."
      ]
    },
    {
      "cell_type": "code",
      "metadata": {
        "id": "L7NTqa3VHWUu"
      },
      "source": [
        "#In this code block, modify the print statement\n",
        "# to display your name, age in years and height in metres.\n",
        "print('my name', 1, 1.0)"
      ],
      "execution_count": null,
      "outputs": []
    },
    {
      "cell_type": "markdown",
      "metadata": {
        "id": "A_MJ276WIQ-2"
      },
      "source": [
        "### You use the assignment operator to assign data types to variables"
      ]
    },
    {
      "cell_type": "markdown",
      "metadata": {
        "id": "auT7TEmf8l-i"
      },
      "source": [
        "The print function is one of the most-often used functions in python.\n",
        "\n",
        "However, computer programs won't be useful if all they do is just display information on the screen.\n",
        "\n",
        "Very often, we need to store, access and manipulate information.\n",
        "\n",
        "How we do this is to assign the data types to **variables** to form **statements**.\n",
        "\n",
        "In the following example, there is one statement, that creates a piece of information and stores it in memory.\n",
        "\n",
        "```python\n",
        "item = 'rice'\n",
        "```\n",
        "\n",
        "This is translated in English as:\n",
        "\n",
        "---\n",
        "> The string ```'rice'``` is **assigned to** the variable named ```item```\n",
        ">\n",
        "---\n",
        "\n",
        "When a data type is declared, it is stored in a memory location.\n",
        "\n",
        "The ```=``` sign is called the **assignment** operator.\n",
        "\n",
        "It assigns the memory location of the string```rice``` to the variable named ```item```.\n",
        "\n",
        "----\n",
        "> **Please Note**\n",
        ">\n",
        "> The ```=``` sign does not have the same meaning as in mathematics.\n",
        ">\n",
        "\n",
        "------\n",
        "\n",
        "\n"
      ]
    },
    {
      "cell_type": "markdown",
      "metadata": {
        "id": "mwjQEI-tfnRL"
      },
      "source": [
        "The diagram illustrates what happens in the memory.\n",
        "\n",
        "The gray zone represents the memory, and it currently shows that the variable ```item``` is pointing to the string ```'rice'```.\n",
        "\n",
        "<img src=\"https://drive.google.com/uc?export=view&id=1YztwFqHm8qh9yDMfHOg_kPZ9cGyEQDgr\" alt=\"assignment in memory\"\n",
        "\ttitle=\"assignment in memory\" width=\"400\" />"
      ]
    },
    {
      "cell_type": "markdown",
      "metadata": {
        "id": "c-IzHBAB9z-l"
      },
      "source": [
        "### Variables allow you to access the data assigned to them"
      ]
    },
    {
      "cell_type": "markdown",
      "metadata": {
        "id": "IYVMsn7Mf7vE"
      },
      "source": [
        "In the following example, we show you how to declare variables with the ```int``` and ```float``` datatype.\n",
        "\n",
        "```python\n",
        "quantity = 2\n",
        "weight = 7.5\n",
        "```\n",
        "\n",
        "You can then *access* the information stored by typing the variable name. The following example shows two statements that do this with the variables declared earlier.\n",
        "\n",
        "```python\n",
        "print(item,quantity, weight)\n",
        "total = quantity * weight\n",
        "```"
      ]
    },
    {
      "cell_type": "code",
      "metadata": {
        "id": "CGLdt_bAIyKg"
      },
      "source": [
        "#Modify this code block to display the value of total\n",
        "item = 'rice'\n",
        "quantity = 2\n",
        "weight = 7.5\n",
        "print(item, quantity, weight)\n",
        "total = quantity * weight\n",
        "#put a print statement here"
      ],
      "execution_count": null,
      "outputs": []
    },
    {
      "cell_type": "markdown",
      "metadata": {
        "id": "HUGnTfRSgEv7"
      },
      "source": [
        "### Variable names in python follow some rules."
      ]
    },
    {
      "cell_type": "markdown",
      "metadata": {
        "id": "SK_Z2SZ9gJI7"
      },
      "source": [
        "Python rules state that a variable name\n",
        "- can only begin with a letter or underscore\n",
        "- can contain numbers, letters and underscore\n",
        "- cannot contain spaces or operators\n",
        "- is case sensitive.\n"
      ]
    },
    {
      "cell_type": "markdown",
      "metadata": {
        "id": "wyPibvedgMzD"
      },
      "source": [
        "In the following, identify the legal variable names.\n",
        "\n",
        "```python\n",
        "banana_\n",
        "banana1\n",
        "_banana\n",
        "bana+na\n",
        "Banana\n",
        "```\n"
      ]
    },
    {
      "cell_type": "markdown",
      "metadata": {
        "id": "wgP7A6lFJp9h"
      },
      "source": [
        "### The built-in function ```type()``` tells you the data type of a variable"
      ]
    },
    {
      "cell_type": "markdown",
      "metadata": {
        "id": "5BnaRHXBKC0N"
      },
      "source": [
        "Recall that a **built-in function** is a function that is provided as part of the Python programming language.\n",
        "\n",
        "You can use the python built-in ```type``` function to check the data type of the variable. Here is an example.\n",
        "\n",
        "```python\n",
        "a = 'apple'\n",
        "print( type(a) )\n",
        "```\n",
        "\n",
        "- The string ```'apple'``` is assigned to the variable ```a```.\n",
        "\n",
        "- The ```type()``` function is then **executed** by specifying ```a``` as an argument.\n",
        "\n",
        "- As the ```type()``` function is itself an argument of the ```print``` function, the output of the type function is given to the print function."
      ]
    },
    {
      "cell_type": "code",
      "metadata": {
        "id": "bJ5ad3qlKA8U"
      },
      "source": [
        "word = \"\"\"beserk\"\"\"\n",
        "### write code to check the data type of word"
      ],
      "execution_count": null,
      "outputs": []
    },
    {
      "cell_type": "markdown",
      "metadata": {
        "id": "1sHw-I57KRhj"
      },
      "source": [
        "### The built-in functions ```int()```, ```float()``` and ```str()``` convert one data type to another."
      ]
    },
    {
      "cell_type": "markdown",
      "metadata": {
        "id": "2xVHviC7KTUp"
      },
      "source": [
        "These functions take in only one argument.  Let's look at the following example.\n",
        "\n",
        "```python\n",
        "a = 1.0\n",
        "b = str(a)\n",
        "print(type(b))\n",
        "```\n",
        "\n",
        "- The ```str``` function has taken in a ```float``` object as an argument.\n",
        "- It then returns a **string** object and assigns it to ```b```.\n",
        "- The third line then helps to confirm that ```b``` is now assigned to a string.\n",
        "\n",
        "> Observe that ```1.0``` and ```'1.0'``` are different datatypes.\n",
        "\n",
        "The other functions ```float()``` and ```int()``` do similar tasks. Do experiment with them.\n",
        "\n",
        "\n",
        "\n",
        "\n",
        "\n"
      ]
    },
    {
      "cell_type": "code",
      "metadata": {
        "id": "ZBNUhaaaKkoy"
      },
      "source": [
        "## run the following code, can you explain what is happening?\n",
        "a = \"1.23\"\n",
        "b = float(a)\n",
        "print(a,b)\n",
        "print(type(a), type(b))"
      ],
      "execution_count": null,
      "outputs": []
    },
    {
      "cell_type": "markdown",
      "metadata": {
        "id": "iueBz3KXI0CC"
      },
      "source": [
        "### A Python statement is an instruction that python can execute."
      ]
    },
    {
      "cell_type": "markdown",
      "metadata": {
        "id": "74R_IdtfNLm5"
      },
      "source": [
        "A python **statement** is an instruction that python can execute.\n",
        "\n",
        "In the following example, all these are python statements.\n",
        "\n",
        "```python\n",
        "a = 1.0\n",
        "print(a)\n",
        "b = int(a)\n",
        "```\n"
      ]
    },
    {
      "cell_type": "markdown",
      "metadata": {
        "id": "WD6ZXfaXJHnl"
      },
      "source": [
        "### Arithmetic operators can be used on ```int``` and ```float``` data types"
      ]
    },
    {
      "cell_type": "markdown",
      "metadata": {
        "id": "c7x-VidoJMdl"
      },
      "source": [
        "The arithmetic operators ```+ - * /``` perform numerical operations on the data types of ```int``` and ```float```.\n",
        "\n",
        "In the following example, all the operands are of ```int``` data type.\n",
        "\n",
        "Observe the resulting **data type** of the operations e.g.\n",
        "- what is the data type of ```5 + 3```?\n",
        "- what is the data type of ```5 * 3```?"
      ]
    },
    {
      "cell_type": "code",
      "metadata": {
        "id": "DpDeNeRMJMSd"
      },
      "source": [
        "a = 5 + 3\n",
        "b = 5 - 3\n",
        "c = 5 * 3\n",
        "d = 5 / 3\n",
        "print(a,b,c,d)"
      ],
      "execution_count": null,
      "outputs": []
    },
    {
      "cell_type": "markdown",
      "metadata": {
        "id": "04qm1pOCJk-3"
      },
      "source": [
        "#### Integer Division"
      ]
    },
    {
      "cell_type": "markdown",
      "metadata": {
        "id": "iVkJJfqGJv73"
      },
      "source": [
        "The ```//``` operator is the integer division operator. Try the following example to see what it does."
      ]
    },
    {
      "cell_type": "code",
      "metadata": {
        "id": "afAT94SvJvvX",
        "colab": {
          "base_uri": "https://localhost:8080/"
        },
        "outputId": "15a66642-0fa2-4de6-83ea-ab986fc3f57a"
      },
      "source": [
        "#run the code to see what the integer division operator does\n",
        "a = 4\n",
        "b = 7\n",
        "c = a/b\n",
        "d = a//b\n",
        "print(c, d)"
      ],
      "execution_count": null,
      "outputs": [
        {
          "output_type": "stream",
          "text": [
            "0.5714285714285714 0\n"
          ],
          "name": "stdout"
        }
      ]
    },
    {
      "cell_type": "markdown",
      "metadata": {
        "id": "fSmDiOgcKC2J"
      },
      "source": [
        "#### Exponentiation"
      ]
    },
    {
      "cell_type": "markdown",
      "metadata": {
        "id": "EUrUD3boKOxH"
      },
      "source": [
        "The ```**``` operator is the exponentiation operator.\n",
        "\n",
        "The following code shows you how you would use this operator to calculate the value of 2<sup>3</sup>.\n"
      ]
    },
    {
      "cell_type": "code",
      "metadata": {
        "id": "yCuJBqaTKQE_",
        "colab": {
          "base_uri": "https://localhost:8080/"
        },
        "outputId": "5d348935-29bd-4a5d-e814-c0e47499803c"
      },
      "source": [
        "print(2**3)"
      ],
      "execution_count": null,
      "outputs": [
        {
          "output_type": "stream",
          "text": [
            "8\n"
          ],
          "name": "stdout"
        }
      ]
    },
    {
      "cell_type": "markdown",
      "metadata": {
        "id": "ss97jg2xKiqI"
      },
      "source": [
        "#### Modulo"
      ]
    },
    {
      "cell_type": "markdown",
      "metadata": {
        "id": "CSm9_4rNKkyA"
      },
      "source": [
        "The ```%``` operator is the **modulo** operator. This gives you the remainder after dividing the first number by the second. The following example is read as \"seven modulo three\"."
      ]
    },
    {
      "cell_type": "code",
      "metadata": {
        "id": "_9bHRgwYKp0A",
        "colab": {
          "base_uri": "https://localhost:8080/"
        },
        "outputId": "601a97c3-2933-4915-de38-6da0432aef5f"
      },
      "source": [
        "print(7%3)"
      ],
      "execution_count": null,
      "outputs": [
        {
          "output_type": "stream",
          "text": [
            "1\n"
          ],
          "name": "stdout"
        }
      ]
    },
    {
      "cell_type": "markdown",
      "metadata": {
        "id": "pc9B5hQDb-aI"
      },
      "source": [
        "---\n",
        "> **Think about the following**\n",
        ">\n",
        "> How would you use the modulo operator to check if a value is a multiple of 3?\n",
        ">\n",
        "---\n",
        "\n",
        "You can use the code box below to try your ideas."
      ]
    },
    {
      "cell_type": "code",
      "metadata": {
        "id": "EKJaVwEEcxhe"
      },
      "source": [
        "a = 3\n",
        "b = 6\n",
        "c = 7\n",
        "### Use the modulo operator\n",
        "### TODO: type code to determine if b is a multiple of a.\n",
        "\n",
        "### TODO: type code to determine if c is a multiple of a\n"
      ],
      "execution_count": null,
      "outputs": []
    },
    {
      "cell_type": "markdown",
      "metadata": {
        "id": "ZfWpIXoWK2F6"
      },
      "source": [
        "#### Operator Precedence"
      ]
    },
    {
      "cell_type": "markdown",
      "metadata": {
        "id": "Q4ZeMZPGK5DK"
      },
      "source": [
        "The operator precedence in python, from highest to lowest, is:\n",
        "- exponentiation: ```**```\n",
        "- multiplication and division ```* / ```\n",
        "- addition and subtraction ``` + - ```\n",
        "\n",
        "Parentheses can be used to force precedence. The following example illustrates."
      ]
    },
    {
      "cell_type": "code",
      "metadata": {
        "id": "v2Jys4xzK4Eo"
      },
      "source": [
        "a = 2 + 3 * 4\n",
        "b = (2 + 3) * 4\n",
        "# print out the values of a and b"
      ],
      "execution_count": null,
      "outputs": []
    },
    {
      "cell_type": "markdown",
      "metadata": {
        "id": "hmX9TLlHMf7O"
      },
      "source": [
        "### Initialize all variables before using them"
      ]
    },
    {
      "cell_type": "markdown",
      "metadata": {
        "id": "cy27UNy1L5DM"
      },
      "source": [
        "Suppose your intention is to calculate the area of a triangle.\n",
        "\n",
        "Merely typing the statement below will not be helpful.\n",
        "\n",
        "```python\n",
        "area = 0.5*base*height\n",
        "```\n",
        "\n",
        "The sequence of statements is also important.\n",
        "\n",
        "The values of ```base``` and ```height``` would have to be specified first.\n",
        "\n",
        "Then, the area calculation can then be executed."
      ]
    },
    {
      "cell_type": "code",
      "metadata": {
        "id": "R7BNLxAbMmRk"
      },
      "source": [
        "#put in the missing statements, and use any value you like\n",
        "#lastly, display the value of the area\n",
        "area = 0.5*base*height"
      ],
      "execution_count": null,
      "outputs": []
    },
    {
      "cell_type": "markdown",
      "metadata": {
        "id": "TplOZhfbLliy"
      },
      "source": [
        "### The statement ```x = x + 1``` updates the value of ```x```."
      ]
    },
    {
      "cell_type": "markdown",
      "metadata": {
        "id": "SUhcwqvmNxgx"
      },
      "source": [
        "Consider the following example.\n",
        "\n",
        "```python\n",
        "x = 2\n",
        "x = x + 1\n",
        "```\n",
        "\n",
        "The statement ```x = x + 1``` would not make much sense in mathematics.\n",
        "\n",
        "However, in Python, recall that ```=``` means to **assign**.\n",
        "\n",
        "Hence, this is what the python interpreter does\n",
        "- first, the variable ```x``` is assigned to ```2```.\n",
        "- it evaluates ```x + 1``` to ```3```.\n",
        "- it then assigns the result back to ```x```, thus ```x``` is now assigned to ```3```.\n",
        "\n",
        "In other words, ```x = x + 1``` means that the result of evaluating ```x + 1``` is assigned back to the name ```x```."
      ]
    },
    {
      "cell_type": "markdown",
      "metadata": {
        "id": "Q9bT4Kw7WxJt"
      },
      "source": [
        "This is illustrated in the following diagram, which describes what happens in the memory of the computer.\n",
        "\n",
        "![x = x + 1](https://drive.google.com/uc?export=view&id=1OxzWcgLYpUReWwyX2WaSi8M0qp5nzna1)"
      ]
    },
    {
      "cell_type": "code",
      "metadata": {
        "id": "vMQVnnpqNIr3"
      },
      "source": [
        "x = 20\n",
        "## TODO: fill in a statement, such that 18 is displayed by the next line.\n",
        "\n",
        "print(x)"
      ],
      "execution_count": null,
      "outputs": []
    },
    {
      "cell_type": "markdown",
      "source": [
        "---\n",
        "> **Consider**\n",
        ">\n",
        "> What is the outcome of the following program?\n",
        "> ```python\n",
        "> x = 3\n",
        "> x = x + 1\n",
        "> x = x + 2\n",
        "> x = x + 3\n",
        "> print(x)\n",
        "> ```\n",
        ">\n",
        "---\n"
      ],
      "metadata": {
        "id": "Teh7SFTDtXAw"
      }
    },
    {
      "cell_type": "markdown",
      "metadata": {
        "id": "-q_ciyngObYh"
      },
      "source": [
        "### You can use single-quotes or triple-quotes to declare strings."
      ]
    },
    {
      "cell_type": "markdown",
      "metadata": {
        "id": "V92C4u8hcSPB"
      },
      "source": [
        "#### Single-quoted strings"
      ]
    },
    {
      "cell_type": "markdown",
      "metadata": {
        "id": "aGxe1wucO7CD"
      },
      "source": [
        " In the following example,\n",
        "-  a **string** can be enclosed between single quotes or double quotes. The enclosing quotes must match.\n",
        "-  using single quotes allow the **string** to contain a double-quote character and vice versa.\n"
      ]
    },
    {
      "cell_type": "code",
      "metadata": {
        "id": "qHb8UoeoPMXz",
        "outputId": "0623707a-2b86-4fc6-e72c-729267eb99c0",
        "colab": {
          "base_uri": "https://localhost:8080/"
        }
      },
      "source": [
        "a = ' \"why?\", asked Muriel.'\n",
        "b = \" Land's End \"\n",
        "print(a)\n",
        "print(b)"
      ],
      "execution_count": null,
      "outputs": [
        {
          "output_type": "stream",
          "name": "stdout",
          "text": [
            " \"why?\", asked Muriel.\n",
            " Land's End \n"
          ]
        }
      ]
    },
    {
      "cell_type": "markdown",
      "metadata": {
        "id": "QsbWd-9UZ0xW"
      },
      "source": [
        "#### You can include escape characters in a string"
      ]
    },
    {
      "cell_type": "markdown",
      "metadata": {
        "id": "bhQotEFKZgMP"
      },
      "source": [
        "There are several **escape characters** that you can use. Here are two commonly-used ones.\n",
        "- ```\\n``` represents a new line.\n",
        "- ```\\t``` represents a tab.\n",
        "\n",
        "Execute the code below to see the effect of the newline escape character."
      ]
    },
    {
      "cell_type": "code",
      "metadata": {
        "id": "nL2VICosZ-DE",
        "outputId": "e9a86f8b-52ec-4d53-83cb-55bdc2b2d6e2",
        "colab": {
          "base_uri": "https://localhost:8080/"
        }
      },
      "source": [
        "a = 'The Animals were taken aback.\\n\"Why?\" cried Muriel. '\n",
        "print(a)"
      ],
      "execution_count": null,
      "outputs": [
        {
          "output_type": "stream",
          "name": "stdout",
          "text": [
            "The Animals were taken aback.\n",
            "\"Why?\" cried Muriel. \n"
          ]
        }
      ]
    },
    {
      "cell_type": "markdown",
      "metadata": {
        "id": "5h5D57HXaEZU"
      },
      "source": [
        "#### Triple-Quoted Strings"
      ]
    },
    {
      "cell_type": "markdown",
      "metadata": {
        "id": "WROPiGdZaG1t"
      },
      "source": [
        "Strings can also be enclosed within triple-quotes, which then allows you to declare multi-line strings without using escape characters.\n",
        "\n",
        "This helps to keep your lines of code short.\n",
        "\n",
        "Similarly, the triple-quotes must match.\n",
        "\n"
      ]
    },
    {
      "cell_type": "code",
      "metadata": {
        "id": "sVbvVRrCabjE",
        "outputId": "df35f01d-5795-4ae2-f0ad-bc507ec777a4",
        "colab": {
          "base_uri": "https://localhost:8080/"
        }
      },
      "source": [
        "a = '''The Animals were taken aback.\n",
        "\"Why?\" cried Muriel. '''\n",
        "b = \"\"\" The Animals were taken aback.\n",
        "\"Why?\" cried Muriel. \"\"\"\n",
        "print(a)\n",
        "print(b)"
      ],
      "execution_count": null,
      "outputs": [
        {
          "output_type": "stream",
          "name": "stdout",
          "text": [
            "The Animals were taken aback.\n",
            "\"Why?\" cried Muriel. \n",
            " The Animals were taken aback.\n",
            "\"Why?\" cried Muriel. \n"
          ]
        }
      ]
    },
    {
      "cell_type": "markdown",
      "metadata": {
        "id": "EcVgSFq8auIB"
      },
      "source": [
        "### You can use the ```+``` operator with two strings"
      ]
    },
    {
      "cell_type": "markdown",
      "metadata": {
        "id": "fUb9n2EYGYYj"
      },
      "source": [
        "Coming back to the ```print``` function, you could write code like this to display ```My name is Tanjiro``` on the screen, by providing two arguments to the ```print``` function.\n",
        "\n",
        "```python\n",
        "name = 'Tanjiro'\n",
        "print('My name is', name)\n",
        "```\n",
        "\n",
        "An alternative is to use the ```+``` operator to perform **string concatenation** i.e. joining strings to make a longer string.\n",
        "\n",
        "This is because the ```+``` operator behaves differently when it sees two strings vs two numbers.\n",
        "\n",
        "\n"
      ]
    },
    {
      "cell_type": "code",
      "metadata": {
        "id": "9RezV9U4a6fH"
      },
      "source": [
        "name = 'Tanjiro'\n",
        "print('My name is' + name)"
      ],
      "execution_count": null,
      "outputs": []
    },
    {
      "cell_type": "code",
      "metadata": {
        "id": "y6B3zyfKbMX_"
      },
      "source": [
        "# The following will result in an error when executed.\n",
        "# Can you explain why and suggest one way to fix the error?\n",
        "\n",
        "age = 16\n",
        "print('I am ' + age + ' years old')"
      ],
      "execution_count": null,
      "outputs": []
    },
    {
      "cell_type": "markdown",
      "metadata": {
        "id": "500pxMy1bXzY"
      },
      "source": [
        "### The ```input``` function makes your program interactive"
      ]
    },
    {
      "cell_type": "code",
      "metadata": {
        "id": "9ouLSHOgbkDg"
      },
      "source": [
        "name = input('What is your name?')\n",
        "print('Hello', name)"
      ],
      "execution_count": null,
      "outputs": []
    },
    {
      "cell_type": "markdown",
      "metadata": {
        "id": "jLjBwyfdbmg6"
      },
      "source": [
        "The ```input``` function\n",
        "- displays the message on the screen\n",
        "- reads what the user types in the keyboard\n",
        "- returns it as a string.\n",
        "\n",
        "Finally, the string is assigned to the variable ```name```.\n"
      ]
    },
    {
      "cell_type": "markdown",
      "metadata": {
        "id": "s9l7U3yFcAJ6"
      },
      "source": [
        "### The boolean data type has only two possible values, ```True``` and ```False```"
      ]
    },
    {
      "cell_type": "markdown",
      "metadata": {
        "id": "9Zn5Ckm1Mv3u"
      },
      "source": [
        "There is another datatype called **boolean**, which is either ```True``` or ```False```. Note that these are keywords, and not strings. The keywords are also case-sensitive.\n",
        "\n",
        "```python\n",
        "a = True\n",
        "b = False\n",
        "```\n"
      ]
    },
    {
      "cell_type": "markdown",
      "metadata": {
        "id": "CMJJxWvwcaLh"
      },
      "source": [
        "### Boolean expressions are formed by comparison operators and evaluate to ```True``` or ```False```."
      ]
    },
    {
      "cell_type": "markdown",
      "metadata": {
        "id": "byejJBMEcxO1"
      },
      "source": [
        "**Comparison operators** compare two values and the entire boolean **expression** evaluates to either ```True ``` or ```False```.\n",
        "\n",
        "The six operators are shown below."
      ]
    },
    {
      "cell_type": "code",
      "metadata": {
        "id": "DAjj_Zpucp4c"
      },
      "source": [
        "a = 10\n",
        "b = 3\n",
        "print(a == b)\n",
        "print(a != b)\n",
        "print(a > b)\n",
        "print(a >= b)\n",
        "print(a < b)\n",
        "print(a <= b)"
      ],
      "execution_count": null,
      "outputs": []
    },
    {
      "cell_type": "markdown",
      "metadata": {
        "id": "zJqOOh6kUmKD"
      },
      "source": [
        "A boolean expression can be assigned to a variable to form a statement.\n",
        "\n",
        "In the code below, what is the data type of ```result```?"
      ]
    },
    {
      "cell_type": "code",
      "metadata": {
        "id": "vxnH53fUdB1j"
      },
      "source": [
        "a = 10\n",
        "b = 3\n",
        "result = a > b\n",
        "print(result)"
      ],
      "execution_count": null,
      "outputs": []
    },
    {
      "cell_type": "markdown",
      "metadata": {
        "id": "9D1YPCOtdTjS"
      },
      "source": [
        "### Logical operators combine two boolean expressions"
      ]
    },
    {
      "cell_type": "markdown",
      "metadata": {
        "id": "lmGWOrSdV5Lj"
      },
      "source": [
        "\n",
        "This represents more complicated conditions. For example, notice that there are two conditions in the following:\n",
        "\n",
        "---\n",
        "> \"Hmm, is it raining today, and do I have an umbrella?\"\n",
        "---\n",
        "\n",
        "The three logical operators are illustrated in the code below.\n",
        "\n",
        "Read the code and predict the values of ```condition1```, ```condition2``` and ```condition3```.\n",
        "\n",
        "Then write suitable python code to check your answer.\n",
        "\n",
        "\n",
        "\n",
        "\n"
      ]
    },
    {
      "cell_type": "code",
      "metadata": {
        "id": "zxfFvUjbdkmz"
      },
      "source": [
        "b = 3\n",
        "condition1 = (b > 0) and ( b % 2 == 0)\n",
        "condition2 = (b > 0) or (b % 2 == 0)\n",
        "condition3 = not (b % 2 == 0)\n",
        "\n",
        "### TODO. Write code to check the values of the variables above"
      ],
      "execution_count": null,
      "outputs": []
    },
    {
      "cell_type": "markdown",
      "metadata": {
        "id": "CtmERa46ds_i"
      },
      "source": [
        "### The if-else statement uses boolean expressions to make a selection."
      ]
    },
    {
      "cell_type": "markdown",
      "metadata": {
        "id": "eNrMORhqa0Fc"
      },
      "source": [
        "We would probably make such decisions every day\n",
        "\n",
        "- If it is raining,\n",
        "  - I'll stay at home\n",
        "  - Do my favourite at-home activity\n",
        "- else\n",
        "  - I will go out\n",
        "  - Do my favourite outdoor activity\n"
      ]
    },
    {
      "cell_type": "markdown",
      "metadata": {
        "id": "qEtEuickd_q9"
      },
      "source": [
        "Here's an example of an if-else statement being used to display messages on the screen.\n",
        "\n",
        "- Statements belonging to each condition must be **indented**, and it is typical to use four spaces.\n",
        "\n",
        "- The else-block can be omitted."
      ]
    },
    {
      "cell_type": "code",
      "metadata": {
        "id": "J_J8qJwjeICL"
      },
      "source": [
        "b = 3\n",
        "if ( b % 2 == 0):\n",
        "    print(\"Even number\")\n",
        "else:\n",
        "    print(\"Odd number\")"
      ],
      "execution_count": null,
      "outputs": []
    },
    {
      "cell_type": "markdown",
      "source": [
        "### Use the ```elif``` keyword if you have to check against more than one condition."
      ],
      "metadata": {
        "id": "UDht7h-ouunV"
      }
    },
    {
      "cell_type": "markdown",
      "source": [
        "You would know the following from your science lessons:\n",
        "* If the temperature of water is above 100 degrees celsius, it is a gas.\n",
        "* If the temperature of water is between 0 - 100 degrees celsius, it is a liquid.\n",
        "* Else, it is a solid.\n",
        "\n",
        "This is how you can write a program with the ```elif``` keyword to help a science student:\n",
        "\n",
        "```python\n",
        "temperature = 30\n",
        "if( temperature > 100):\n",
        "    print(\"gas\")\n",
        "elif( temperature > 0):\n",
        "    print(\"liquid\")\n",
        "else:\n",
        "    print(\"solid\")\n",
        "```\n"
      ],
      "metadata": {
        "id": "wNsrZgS-u2Db"
      }
    },
    {
      "cell_type": "markdown",
      "source": [
        "---\n",
        "> **Consider**\n",
        ">\n",
        "> For the second condition, why is writing ```temperature > 0``` sufficient?\n",
        ">\n",
        "> (Many beginner programmers will write ``` 0 < temperature < 100``` which has redundant elements, so we encourage you to develop good programming habits.)\n",
        ">\n",
        "---"
      ],
      "metadata": {
        "id": "Gom-LixTx60K"
      }
    },
    {
      "cell_type": "markdown",
      "metadata": {
        "id": "iHPunmcWee3b"
      },
      "source": [
        "#### You can use boolean variables as a condition"
      ]
    },
    {
      "cell_type": "markdown",
      "metadata": {
        "id": "v1a7AnxUfhqV"
      },
      "source": [
        "Doing so improves the readability of your program and is a recommended programming practice."
      ]
    },
    {
      "cell_type": "code",
      "metadata": {
        "id": "UOaFc-EmedMs"
      },
      "source": [
        "b = 3\n",
        "is_even = b % 2 == 0\n",
        "if ( is_even ):\n",
        "    print(\"Even number\")\n",
        "else:\n",
        "    print(\"Odd number\")"
      ],
      "execution_count": null,
      "outputs": []
    },
    {
      "cell_type": "markdown",
      "metadata": {
        "id": "ADFRCPqnesqU"
      },
      "source": [
        "#### The else-block can be omitted."
      ]
    },
    {
      "cell_type": "markdown",
      "metadata": {
        "id": "VvVcds2bey3j"
      },
      "source": [
        "The else-block is not compulsory and can be omitted if necessary.\n",
        "\n",
        "In the example below, there is no message to be printed out if the age is not 21, so the else-block is not printed out."
      ]
    },
    {
      "cell_type": "code",
      "metadata": {
        "id": "719uci-ke6V-"
      },
      "source": [
        "age = 21\n",
        "print(\"You are \", age, \"years old\")\n",
        "if ( age == 21):\n",
        "    print(\"congratulation, you are an adult\")"
      ],
      "execution_count": null,
      "outputs": []
    },
    {
      "cell_type": "markdown",
      "metadata": {
        "id": "PwHZs6lHhf_U"
      },
      "source": [
        "---\n",
        "> **Think about the following**\n",
        ">\n",
        "> What would be displayed on the screen?\n",
        ">\n",
        "> ```python\n",
        "> b = 3\n",
        "> if ( b % 2 == 0):\n",
        ">    print(\"Even number\")\n",
        "> print(\"Odd number\")\n",
        "> ```\n",
        "---"
      ]
    },
    {
      "cell_type": "markdown",
      "source": [
        "### Indentation is a feature of the python programming language"
      ],
      "metadata": {
        "id": "bx79x3ttzlXQ"
      }
    },
    {
      "cell_type": "markdown",
      "source": [
        "We reiterate that statements in an if/else block belonging to each condition must be indented e.g. ```print(\"liquid\")``` is executed only if ```temperature > 0``` is ```True```.\n",
        "\n",
        "```python\n",
        "temperature = 30\n",
        "if( temperature > 100):\n",
        "    print(\"gas\")\n",
        "elif( temperature > 0):\n",
        "    print(\"liquid\")\n",
        "else:\n",
        "    print(\"solid\")\n",
        "```"
      ],
      "metadata": {
        "id": "f7QpAoE6zpuO"
      }
    },
    {
      "cell_type": "markdown",
      "metadata": {
        "id": "iQ9u_9zOfvUG"
      },
      "source": [
        "### The ```None``` keyword is a special value that is used to represent the lack of information."
      ]
    },
    {
      "cell_type": "markdown",
      "metadata": {
        "id": "5r2zxx1lffsk"
      },
      "source": [
        "Note that ```None``` is a keyword, not a string.\n",
        "\n",
        "In future lessons, we will encounter situations where we will have to use this keyword, so a simple example will be sufficient here.\n",
        "\n",
        "```python\n",
        "a = None\n",
        "if( a == None):\n",
        "    print(a)\n"
      ]
    },
    {
      "cell_type": "markdown",
      "metadata": {
        "id": "qi2CpXa9gQs2"
      },
      "source": [
        "### Good programming practices are important as it helps you and other people to understand your code"
      ]
    },
    {
      "cell_type": "markdown",
      "metadata": {
        "id": "o7CinT4Xi78d"
      },
      "source": [
        "#### Why adopt good programming practices?"
      ]
    },
    {
      "cell_type": "markdown",
      "metadata": {
        "id": "kQGRnTpjjUbl"
      },
      "source": [
        "1. **It helps other humans who read your code to understand your intentions better**. All programming code is communication, not just to the computer to execute your instructions, but to you and others working with you.\n",
        "\n",
        "2. **It helps you to work better and faster**. Often you have to find out what is wrong with your code (this is called **debugging**), and our recommended practices help you in this process.\n",
        "\n",
        "3. **We are human**. Using our cognitive functions (e.g. reading, thinking, writing etc) consumes energy. We will get tired if we are at it for too long, which leads us to make mistakes. Following best practices recommended here will help you make fewer mistakes.\n",
        "\n"
      ]
    },
    {
      "cell_type": "markdown",
      "metadata": {
        "id": "lcKQpnWygUb9"
      },
      "source": [
        "#### Give variables meaningful names."
      ]
    },
    {
      "cell_type": "markdown",
      "metadata": {
        "id": "JhNrPDCMgY8F"
      },
      "source": [
        "This helps in readability to enable yourself or other people to understand your intentions.\n",
        "\n",
        "It is typical to name variables with lowercase letters. If you have to use more than one word, use underscores to separate them.\n",
        "\n",
        "Which of the following code fragments is more readable?\n",
        "\n",
        "```python\n",
        "a = 5\n",
        "b = 3.14159\n",
        "c = b*c*c\n",
        "```\n",
        "\n",
        "```python\n",
        "radius = 5\n",
        "PI = 3.14159\n",
        "area_of_circle = PI*radius*radius\n",
        "```"
      ]
    },
    {
      "cell_type": "markdown",
      "metadata": {
        "id": "3iUe1TdTglhN"
      },
      "source": [
        "### Test early and often"
      ]
    },
    {
      "cell_type": "markdown",
      "metadata": {
        "id": "8gPsQmxpgnxl"
      },
      "source": [
        "We do not write our programs at once, but we check the output of intermediate steps before proceeding with the next step.\n",
        "\n",
        "We use the ```print``` function to do so.\n",
        "\n",
        "Also, we break up a complicated calculation into simpler steps.\n",
        "\n",
        "The following example illustrates.\n",
        "\n",
        "```python\n",
        "radius = 5\n",
        "PI = 3.14159\n",
        "length = 20\n",
        "area_of_circle = PI*radius*radius\n",
        "# I check the area calculation first to see if it is correct.\n",
        "print(area_of_circle)\n",
        "volume_of_cylinder = area_of_circle*length\n",
        "# Once I know that the area is correct, I have more confidence that the volume is correct too\n",
        "print(volume_of_cylinder)\n",
        "```"
      ]
    },
    {
      "cell_type": "markdown",
      "metadata": {
        "id": "Cm2hf9Okgx1H"
      },
      "source": [
        "#### Avoid naming your variables after built-in functions"
      ]
    },
    {
      "cell_type": "markdown",
      "metadata": {
        "id": "-VefMdPrg5JX"
      },
      "source": [
        "If you forget this advice, python will prevent you from using these functions later in your code.\n",
        "\n",
        "Think of it as crossing the road on a red light while the road is empty - you shouldn't do it even if you can.\n",
        "\n",
        "In the coming weeks, you will learn more of these built-in functions.\n",
        "\n",
        "```python\n",
        "#this must be absolutely avoided!!\n",
        "#since int is a built in function\n",
        "int = 1\n",
        "\n",
        "#this must also be absolutely avoided!!\n",
        "sum = 0\n",
        "```"
      ]
    },
    {
      "cell_type": "markdown",
      "source": [
        "#### Keep your statements short"
      ],
      "metadata": {
        "id": "uc8BG35tJm26"
      }
    },
    {
      "cell_type": "markdown",
      "source": [
        "Short statements help you to spot mistakes faster and to demonstrate the steps in a calculation better.\n",
        "\n",
        "Here's an example. Given the formula:\n",
        "\n",
        "\\begin{align}\n",
        "z = \\frac{5y^3 - 4x^3}{6y^5 - 15xy^2}\n",
        "\\end{align}\n",
        "\n",
        "consider Fragment A and Fragment B below and decide which would help you spot mistakes with the operators better.\n",
        "\n",
        "---\n",
        ">\n",
        "> Fragment A\n",
        "> ```python\n",
        "> x = 1\n",
        "> y = 2\n",
        "> z = (5*y**3 - 4*x**3)/( 6*y**5 - 15*x*y**2)\n",
        "> print(z)\n",
        "> ```\n",
        "---\n",
        "\n",
        "---\n",
        ">\n",
        "> Fragment B\n",
        "> ```python\n",
        "> x = 1\n",
        "> y = 2\n",
        "> a = 5*y**3\n",
        "> b = 4*x**3\n",
        "> c = 6*y**5\n",
        "> d = 15*x*y**2\n",
        "> z = (a -b)/(c - d)\n",
        "> print(z)\n",
        "> ```\n",
        "---\n"
      ],
      "metadata": {
        "id": "-3Q7PhRpOrpM"
      }
    },
    {
      "cell_type": "markdown",
      "metadata": {
        "id": "g7ghd-IkhS_u"
      },
      "source": [
        "#### Make use of comment statements to document your code"
      ]
    },
    {
      "cell_type": "markdown",
      "metadata": {
        "id": "0Fx2Vb5ehQgJ"
      },
      "source": [
        "If you use meaningful variable names, your code can be self-documenting.\n",
        "\n",
        "There could be situations where your code needs further explanation. You can use comment statements, which are prefixed by a ```#```."
      ]
    },
    {
      "cell_type": "markdown",
      "source": [
        "### A common programming task is to repeat statements"
      ],
      "metadata": {
        "id": "d2Qqc9ME01ry"
      }
    },
    {
      "cell_type": "markdown",
      "source": [
        "We often have tasks that require repetition.\n",
        "\n",
        "In real life, you would have seen people who count the number of passers-by.\n",
        "\n",
        "Every time someone passes by, they press a button on a counting device.\n",
        "\n",
        "Suppose you would like to display the following text on the screen.\n",
        "\n",
        "```python\n",
        "green bottle 0\n",
        "green bottle 1\n",
        "green bottle 2\n",
        "```\n",
        "\n",
        "One way is to execute the print function three times.\n",
        "\n",
        "Recall what ```i = i + 1``` means.\n",
        "\n",
        "```python\n",
        "i = 0\n",
        "print('green bottle', i)\n",
        "i = i + 1\n",
        "print('green bottle', i)\n",
        "i = i + 1\n",
        "print('green bottle', i)\n",
        "```\n",
        "\n",
        "However, we notice the following\n",
        "- the ```print``` statement is identical and repeated\n",
        "- the value of ```i``` increases by one each time\n",
        "\n",
        "Computer programs can be very long and contain many instructions.\n",
        "\n",
        "This can make it hard for the programmer to modify the program when needed.\n",
        "\n",
        "We can make programs more efficient by avoiding needless repetition of code.\n",
        "\n",
        "In the case of repetition, we can use a **for-loop**.\n"
      ],
      "metadata": {
        "id": "NxOUbfPg05gP"
      }
    },
    {
      "cell_type": "markdown",
      "metadata": {
        "id": "y0U7JDiEhenI"
      },
      "source": [
        "### A for-loop enables you to repeat statements"
      ]
    },
    {
      "cell_type": "markdown",
      "metadata": {
        "id": "7e7lHKJIhMbT"
      },
      "source": [
        "For this code:\n",
        "\n",
        "```python\n",
        "i = 0\n",
        "print('green bottle', i)\n",
        "i = i + 1\n",
        "print('green bottle', i)\n",
        "i = i + 1\n",
        "print('green bottle', i)\n",
        "```\n",
        "\n",
        "We can use the **for-loop** to express the same set of code.\n",
        "\n",
        "Any statement that is to be repeated is indented four spaces below the ```for```-statement.\n",
        "\n",
        "Recall that indentation is a feature of the Python programming language.\n",
        "\n",
        "The ```range(n)``` function is a function that gives integers starting from ```0```, *up to but not including* ```n```.\n",
        "\n",
        "The integers given by the range function are assigned to the **index** ```i```."
      ]
    },
    {
      "cell_type": "code",
      "metadata": {
        "id": "gL92Dlv1h8HE"
      },
      "source": [
        "for i in range(3):\n",
        "    print('green bottle', i)"
      ],
      "execution_count": null,
      "outputs": []
    },
    {
      "cell_type": "markdown",
      "metadata": {
        "id": "m-MXHsZKiF-_"
      },
      "source": [
        "Thus, in the code above,\n",
        "- the first value of ```i``` will be ```0```\n",
        "- the print statement will be executed\n",
        "- the next value of ```i``` will be ```1```\n",
        "- the print statement will be executed\n",
        "- the next value of ```i``` will be ```2```\n",
        "- the print statement will be executed"
      ]
    },
    {
      "cell_type": "markdown",
      "metadata": {
        "id": "GUUm7eVhnVkU"
      },
      "source": [
        "**Exercise**\n",
        "\n",
        "Write a for-loop to display:\n",
        "\n",
        "```python\n",
        "I am drinking 0 bubble tea.\n",
        "I am drinking 1 bubble tea.\n",
        "I am drinking 2 bubble tea.\n",
        "I am drinking 3 bubble tea.\n",
        "I am drinking 4 bubble tea.\n",
        "```"
      ]
    },
    {
      "cell_type": "code",
      "metadata": {
        "id": "-43fiY8zntCf"
      },
      "source": [
        "### try the code here"
      ],
      "execution_count": null,
      "outputs": []
    },
    {
      "cell_type": "markdown",
      "metadata": {
        "id": "G74O6uAhkk3v"
      },
      "source": [
        "## Turtle World"
      ]
    },
    {
      "cell_type": "markdown",
      "metadata": {
        "id": "bco8T9njxSCe"
      },
      "source": [
        "### Introduction"
      ]
    },
    {
      "cell_type": "markdown",
      "metadata": {
        "id": "kgRnYgWtk_BQ"
      },
      "source": [
        "```turtle``` is a **library** for drawing using python commands and is useful for illustrating programming concepts.\n",
        "\n",
        "A **library** in python is a set of reusable code.\n",
        "\n",
        "**Google colaboratory does not have the turtle library, so you would have to use the IDE on your laptop for this.**\n",
        "\n",
        "This is the minimum code that you need.\n",
        "\n",
        "```python\n",
        "import turtle\n",
        "\n",
        "t = turtle.Turtle()\n",
        "\n",
        "turtle.done()\n",
        "```\n",
        "\n",
        "- ```import turtle``` is a statement that imports the ```turtle``` library.\n",
        "- next, ```turtle.Turtle()``` means that the ```Turtle()``` function belonging to the ```turtle``` module is executed. This creates a turtle object in memory, which is assigned to the variable ```t```.\n",
        "- At the same time, a window pops up showing an arrow pointing to the right. This is your turtle object. By accessing the variable ```t```, we will see that we can control this.\n",
        "- lastly, the final command is ```turtle.done()```.\n"
      ]
    },
    {
      "cell_type": "markdown",
      "metadata": {
        "id": "8X7thCHgoPRG"
      },
      "source": [
        "### To see that you can control the turtle object, change the shape of the turtle"
      ]
    },
    {
      "cell_type": "markdown",
      "metadata": {
        "id": "NtkGGDNJoaxV"
      },
      "source": [
        "With the minimum code given above, you get a window that shows a triangular cursor (the turtle object) pointing to the right.\n",
        "\n",
        "By accessing the variable ```t```, you can control this turtle object.\n",
        "\n",
        "To illustrate this, the following example shows how you can write code to change its shape.\n",
        "\n",
        "```python\n",
        "import turtle\n",
        "t = turtle.Turtle()\n",
        "t.shape('turtle') # <---\n",
        "turtle.done()\n",
        "```\n",
        "\n",
        "For brevity and in case you don't like turtles, subsequent examples will leave out the ```t.shape()``` command.\n",
        "\n",
        "You can refer to the [turtle documentation](https://docs.python.org/3/library/turtle.html)."
      ]
    },
    {
      "cell_type": "markdown",
      "metadata": {
        "id": "nQ3p-71pxaa2"
      },
      "source": [
        "### Commands are executed in sequence"
      ]
    },
    {
      "cell_type": "markdown",
      "metadata": {
        "id": "vms7zT-_xHKH"
      },
      "source": [
        "Initially, the turtle is pointing to the right (think of it as the positive x-axis in the conventional way).\n",
        "\n",
        "Another way to control the turtle object is to get it to move.\n",
        "\n",
        "\n",
        "The following example shows how you get the turtle to move forward 100 units, and then turn 90 degrees **to the right**.\n",
        "\n",
        "```python\n",
        "import turtle\n",
        "\n",
        "t = turtle.Turtle()\n",
        "t.forward(100)  # (a)\n",
        "t.right(90)     # (b)\n",
        "turtle.done()\n",
        "```\n",
        "\n",
        "What would happen if you switched the order of commands (a) and (b)?\n",
        "\n",
        "```python\n",
        "import turtle\n",
        "\n",
        "t = turtle.Turtle()\n",
        "t.right(90)    #(b)\n",
        "t.forward(100) #(a)\n",
        "turtle.done()\n",
        "```\n",
        "\n",
        "With these commands only, try drawing a\n",
        "- square\n",
        "- equilateral triangle\n",
        "\n"
      ]
    },
    {
      "cell_type": "markdown",
      "metadata": {
        "id": "CIoeK0XUxmif"
      },
      "source": [
        "### You can use a for-loop to repeat commands"
      ]
    },
    {
      "cell_type": "markdown",
      "metadata": {
        "id": "Vz6rQMa9yYVt"
      },
      "source": [
        "Notice that the set of commands needed to draw a square are executed four times.\n",
        "\n",
        "```python\n",
        "import turtle\n",
        "t = turtle.Turtle()\n",
        "t.forward(100)\n",
        "t.right(90)\n",
        "t.forward(100)\n",
        "t.right(90)\n",
        "t.forward(100)\n",
        "t.right(90)\n",
        "t.forward(100)\n",
        "t.right(90)\n",
        "turtle.done()\n",
        "```\n",
        "\n",
        "We can use a for-loop to eliminate this repetition:\n",
        "\n",
        "```python\n",
        "import turtle\n",
        "\n",
        "t = turtle.Turtle()\n",
        "\n",
        "for i in range(4):\n",
        "    t.forward(100)\n",
        "    t.right(90)\n",
        "\n",
        "turtle.done()\n",
        "```\n",
        "\n",
        "In this case, ```i```, which is the counter variable, is not used."
      ]
    },
    {
      "cell_type": "markdown",
      "source": [
        "### Use variables to document your program and to make your program more flexible"
      ],
      "metadata": {
        "id": "kGk_Uq1aei3q"
      }
    },
    {
      "cell_type": "markdown",
      "source": [
        "Draw out a square and you'll realize that a square is defined by three values\n",
        "* number of sides\n",
        "* length of each side\n",
        "* internal angle between the sides\n",
        "\n",
        "As these values are inputs to drawing the square, you can specify these values using variables.\n",
        "\n",
        "The for-loop is then modified to use these variables in the process of drawing the square.\n",
        "\n",
        "The example below shows how you can modify this program to use this **input** - **process** - **output**  model.\n",
        "\n",
        "```python\n",
        "import turtle\n",
        "\n",
        "t = turtle.Turtle()\n",
        "# Inputs\n",
        "n_sides = 4\n",
        "length = 100\n",
        "angle = 90\n",
        "\n",
        "# Process\n",
        "for i in range(n_sides):\n",
        "    t.forward(length)\n",
        "    t.right(angle)\n",
        "\n",
        "# Output - you see the outcome on the screen\n",
        "\n",
        "turtle.done()\n",
        "```"
      ],
      "metadata": {
        "id": "lNk2fvkjezA7"
      }
    },
    {
      "cell_type": "markdown",
      "metadata": {
        "id": "gGrjfXWjxyXf"
      },
      "source": [
        "Consider now how you might draw the following shapes with the program above:\n",
        "- an equilateral triangle\n",
        "- a hexagon"
      ]
    },
    {
      "cell_type": "markdown",
      "metadata": {
        "id": "W6H-cN6Ax-bJ"
      },
      "source": [
        "### You can use conditionals to make a choice"
      ]
    },
    {
      "cell_type": "markdown",
      "metadata": {
        "id": "LlwHt_nAzdDl"
      },
      "source": [
        "Let's suppose you would like to draw a square, but you want to show only one set of parallel sides.\n",
        "\n",
        "The turtle has the ```penup()``` and ```pendown()``` commands. By executing the ```penup()``` command, no line is drawn.\n",
        "\n",
        "Going by our initial example, we could do it this way.\n",
        "\n",
        "```python\n",
        "import turtle\n",
        "t = turtle.Turtle()\n",
        "t.pendown()    # <---- pen down\n",
        "t.forward(100) # 0th repetition\n",
        "t.right(90)\n",
        "t.penup()      # <---- pen up\n",
        "t.forward(100) # 1st repetition\n",
        "t.right(90)\n",
        "t.pendown()    # <---- pen down\n",
        "t.forward(100) # 2nd repetition\n",
        "t.right(90)\n",
        "t.penup()      # <---- pen up\n",
        "t.forward(100) # 3rd repetition\n",
        "t.right(90)\n",
        "turtle.done()\n",
        "```\n",
        "\n",
        "Counting from ```0```, notice that the ```penup()``` command is executed on the 1st and 3rd repetition, while ```pendown()``` is executed on the 0th and 2nd repetition.\n",
        "\n",
        "Here is how we might do it in our for-loop. You have to decide what to fill in for ```missing_condition```.\n",
        "\n",
        "```python\n",
        "import turtle\n",
        "\n",
        "t = turtle.Turtle()\n",
        "\n",
        "for i in range(4):\n",
        "    if( missing_condition ):\n",
        "        t.pendown()\n",
        "    else:\n",
        "        t.penup()\n",
        "    t.forward(100)\n",
        "    t.right(90)\n",
        "\n",
        "turtle.done()\n",
        "```\n",
        "\n"
      ]
    },
    {
      "cell_type": "markdown",
      "metadata": {
        "id": "9LYnSYiP19hT"
      },
      "source": [
        "## Problem Set\n",
        "\n",
        "These problems will be attempted during class or in your own time.\n",
        "\n",
        "Please attempt them on the IDE on your computer.\n",
        "\n",
        "Your instructor may also choose some of them to demonstrate in class as an example.\n",
        "\n",
        "You will not need to submit them."
      ]
    },
    {
      "cell_type": "markdown",
      "metadata": {
        "id": "S7VoZ0VGyYdC"
      },
      "source": [
        "### Problem 1.01 Body Mass Index"
      ]
    },
    {
      "cell_type": "markdown",
      "metadata": {
        "id": "RQz2kUhkyibf"
      },
      "source": [
        "\n",
        "- The following code, when run, has errors. Read the errors for clues on what is wrong. Modify the code so that the errors no longer occur.\n",
        "\n",
        "- This shows you that even if the syntax is correct, errors can come from working with the wrong datatype.\n",
        "\n",
        "- Errors in your program can also come from calculations programmed wrongly. Check the code below for such errors.\n",
        "\n",
        "- Once you have fixed the errors, make another modification:\n",
        "  - If the BMI is outside of the range 18 - 25, display the message ```good nutrition is important```.\n",
        "  - else, display the message ```congratulations, don't forget to exercise regularly```\n",
        "\n",
        "```python\n",
        "weight = input('What is your weight in kg?')\n",
        "height = input('What is your height in m?')\n",
        "bmi = weight/height*height\n",
        "print('Your BMI is', bmi)\n",
        "```"
      ]
    },
    {
      "cell_type": "markdown",
      "metadata": {
        "id": "vLt0n6Q3y8FB"
      },
      "source": [
        "### Problem 1.02 Quadratic Equation"
      ]
    },
    {
      "cell_type": "markdown",
      "metadata": {
        "id": "ymdD6VKG62YU"
      },
      "source": [
        "A short interactive session is shown as follows.\n",
        "\n",
        "It calculates the value of $f(x) = x^2 + 5x - 4$.\n",
        "\n",
        "Write the necessary python code for it.\n",
        "\n",
        "```\n",
        "Enter the value of x: 1\n",
        "The value of f(x) is 2\n",
        "```"
      ]
    },
    {
      "cell_type": "markdown",
      "metadata": {
        "id": "Jfl_tEQN04Cl"
      },
      "source": [
        "### Problem 1.03 Geometric Series"
      ]
    },
    {
      "cell_type": "markdown",
      "metadata": {
        "id": "UnSGxx4J8dlr"
      },
      "source": [
        "A geometric series has first term $a$ and common ratio $r$. Its sum is given by\n",
        "\n",
        "\\begin{equation}\n",
        "\\sum_{i = 0}^{n-1} ar^i = \\frac{a(1 - r^n)}{1 - r}, r \\neq 1\n",
        "\\end{equation}\n",
        "\n",
        "Write a short script to calculate the sum give a value of $a$, $r$, $n$. Use the formula given.\n",
        "\n",
        "This is how we check that our program works correctly:\n",
        "- choose suitable values of $a$, $r$ and $n$\n",
        "- work out the result by hand.\n",
        "- compare your program's output with your answer.\n",
        "\n",
        "You do not need to use the ```input()``` function.\n",
        "\n",
        "Display the result in any way you like e.g.\n",
        "\n",
        "```\n",
        "The sum is 1.234\n",
        "```\n",
        "\n"
      ]
    },
    {
      "cell_type": "markdown",
      "metadata": {
        "id": "_r91gmT2211u"
      },
      "source": [
        "### Problem 1.04 Address Format"
      ]
    },
    {
      "cell_type": "markdown",
      "metadata": {
        "id": "ZQxnXnIS9znS"
      },
      "source": [
        "The address format in Singapore, as recommended by the postal regulator, is as follows.\n",
        "\n",
        "```\n",
        "Singapore Post Pte Ltd\n",
        "10 Eunos Road 8\n",
        "#05-33 Singapore Post Centre\n",
        "Singapore 408600\n",
        "```\n",
        "\n",
        "The fields are:\n",
        "```\n",
        "[addressee]\n",
        "[house number] [road name]\n",
        "[unit number] [building name]\n",
        "Singapore [postal code]\n",
        "```\n",
        "\n",
        "Write a python script to help you display the address in the required format.\n",
        "\n",
        "Asssume that all fields are present.\n",
        "\n",
        "The following script is started for you.\n",
        "\n",
        "```python\n",
        "addressee = \"Singapore Post Pte Ltd\"\n",
        "house_number = \"10\"\n",
        "road_name = \"Eunos Road 8\"\n",
        "#declare more variables\n",
        "\n",
        "s = addressee + \"\\n\"\n",
        "#add more statements\n",
        "print(s)\n",
        "```"
      ]
    },
    {
      "cell_type": "markdown",
      "metadata": {
        "id": "BAesrQjb3Kpy"
      },
      "source": [
        "### Problem 1.05 Income tax"
      ]
    },
    {
      "cell_type": "markdown",
      "metadata": {
        "id": "kD6GNd7rBj-l"
      },
      "source": [
        "Income tax rates on your annual income are charged as follows.\n",
        "- if your annual income is \\$20000 or below, no tax is charged\n",
        "- else, the tax rate is 5% on any income earned above \\$20000.\n",
        "\n",
        "Write a python script to carry out this calculation. You need not use the ```input()``` function. Display the result as follows.\n",
        "\n",
        "```\n",
        "The tax payable on an income of 30000 is 500 dollars.\n",
        "```"
      ]
    },
    {
      "cell_type": "markdown",
      "metadata": {
        "id": "QHDmUCu-3fxF"
      },
      "source": [
        "### Problem 1.06 Green bottles"
      ]
    },
    {
      "cell_type": "markdown",
      "metadata": {
        "id": "5bbu85o6Dq-w"
      },
      "source": [
        "Write a script to diplay the following.\n",
        "\n",
        "Use a for-loop in your script.\n",
        "\n",
        "```python\n",
        "green bottle 1\n",
        "green bottle 3\n",
        "green bottle 5\n",
        "green bottle 7\n",
        "green bottle 9\n",
        "```"
      ]
    },
    {
      "cell_type": "markdown",
      "metadata": {
        "id": "e2lf46ui4TC2"
      },
      "source": [
        "### Problem 1.07 General term of sequence"
      ]
    },
    {
      "cell_type": "markdown",
      "metadata": {
        "id": "DNl12sNIEEwZ"
      },
      "source": [
        "A sequence has general term\n",
        "\n",
        "\\begin{equation}\n",
        "a_n = \\frac{n^3 + 3n + 5}{n^2 + 1}\n",
        "\\end{equation}\n",
        "\n",
        "Write a script to display the value of each term for any number of terms, starting from n = 0.\n",
        "\n",
        "The first three terms are shown below.\n",
        "\n",
        "```\n",
        "n = 0: 5.0\n",
        "n = 1: 4.5\n",
        "n = 2: 3.8\n",
        "```\n",
        "We begin the script for you.\n",
        "\n",
        "```python\n",
        "number_of_terms = 10\n",
        "for n in range(number_of_terms):\n",
        "     #continue the code\n",
        "```"
      ]
    },
    {
      "cell_type": "markdown",
      "metadata": {
        "id": "wERaPQff4nlt"
      },
      "source": [
        "### Problem 1.08 Sum using a loop"
      ]
    },
    {
      "cell_type": "markdown",
      "metadata": {
        "id": "yl7GacqJIvz4"
      },
      "source": [
        "Suppose you had to calculate\n",
        "\n",
        "\\begin{equation}\n",
        "S_n = 1 + 2 + 3 + 4 + ... + (n-1) + n\n",
        "\\end{equation}\n",
        "\n",
        "Use a for-loop to calculate $S_n$ for any value of $n$.\n",
        "\n",
        "Display the result as\n",
        "\n",
        "```\n",
        "The sum is 55\n",
        "```\n",
        "\n",
        "Avoid using the general formula for $S_n$.\n",
        "\n",
        "We begin the script for you.\n",
        "\n",
        "```python\n",
        "n = 10\n",
        "total = 0  # see note below\n",
        "for i in range(n):\n",
        "    #complete the code\n",
        "```\n",
        "\n",
        "---\n",
        "> **Note**.\n",
        ">\n",
        "> We deliberately named this variable ```total```. Avoid naming this variable ```sum``` as ```sum``` is a python built-in function.\n",
        ">\n",
        "---\n",
        "\n",
        "\n"
      ]
    },
    {
      "cell_type": "markdown",
      "metadata": {
        "id": "AcnoARL64zVP"
      },
      "source": [
        "### Problem 1.09 Sum using a loop (2)"
      ]
    },
    {
      "cell_type": "markdown",
      "metadata": {
        "id": "QoqXN-09Fbbl"
      },
      "source": [
        "Modify your script in **Problem 1.07**.\n",
        "\n",
        "For any number of terms, you are required to calculate the sum of the series instead.\n",
        "\n",
        "Display the result as follows.\n",
        "\n",
        "```\n",
        "The sum of 10 terms is 59.18465314669046\n",
        "```\n",
        "\n",
        "We begin the script for you.\n",
        "```python\n",
        "number_of_terms = 10\n",
        "total = 0\n",
        "for n in range(number_of_terms):\n",
        "    #continue the code\n",
        "```\n",
        "\n",
        "\n",
        "\n"
      ]
    },
    {
      "cell_type": "markdown",
      "metadata": {
        "id": "0if6CEbHYOgY"
      },
      "source": [
        "### Problem 1.10 Swap"
      ]
    },
    {
      "cell_type": "markdown",
      "metadata": {
        "id": "VuRAoz85XjVg"
      },
      "source": [
        "Consider the following code fragment.\n",
        "\n",
        "```python\n",
        "a = 10\n",
        "b = \"apple\"\n",
        "## some missing code here\n",
        "print(a , b)\n",
        "```\n",
        "\n",
        "When executed, it can be seen that the values have been swapped.\n",
        "\n",
        "```\n",
        "apple 10\n",
        "```\n",
        "The diagram below shows how you would swap using a third variable ```temp```.\n",
        "\n",
        "![how to swap](https://drive.google.com/uc?export=view&id=1lZcNVf7r91NTNc_jS40djZc7UOOkfcse)\n",
        "\n",
        "Write the missing code that causes the values of ```a``` and ```b``` to be swapped.\n",
        "\n",
        "---\n",
        "> **Note**\n",
        ">\n",
        "> We will see in Lesson 4 that there is a shorter way in Python to swap variables.\n",
        ">\n",
        "---"
      ]
    },
    {
      "cell_type": "markdown",
      "metadata": {
        "id": "O_QeNcjq8ZBW"
      },
      "source": [
        "### Problem 1.11 Write a program from a flowchart"
      ]
    },
    {
      "cell_type": "markdown",
      "metadata": {
        "id": "19afCf3C8c38"
      },
      "source": [
        "Most  computer programs follow the **input** or **initialize** - **process** - **output** model.\n",
        "\n",
        "Given the following flowchart, write the corresponding python program.\n",
        "\n",
        "If there is more than one condition to check in an if/else block, use the ```elif``` keyword e.g.\n",
        "\n",
        "```python\n",
        "if( condition1):\n",
        "  ## do something\n",
        "elif( condition2):\n",
        "  ## do something else\n",
        "  ## you can have as many elif blocks as necessary\n",
        "else:\n",
        "  ## do some other thing\n",
        "```\n",
        "\n",
        "![x = x + 1](https://drive.google.com/uc?export=view&id=1MPcj9UudHf4W3iZIDndm2Z0mVn9QAO1K)\n"
      ]
    },
    {
      "cell_type": "markdown",
      "metadata": {
        "id": "CjXx82hdEtgb"
      },
      "source": [
        "### Problem 1.12 Draw a regular polygon"
      ]
    },
    {
      "cell_type": "markdown",
      "metadata": {
        "id": "kMC0FzZgEykA"
      },
      "source": [
        "Draw a regular polygon of n-sides using the turtle library.\n",
        "\n",
        "You may wish to include commands to\n",
        "- set the line thickness and/or colour\n",
        "- fill the polygon with colour\n",
        "\n",
        "These decisions are left to your own exploration.\n",
        "\n",
        "For these commands, refer to the [documentation](https://docs.python.org/3.3/library/turtle.html?highlight=turtle)."
      ]
    },
    {
      "cell_type": "markdown",
      "metadata": {
        "id": "RZGHM59O3Dvk"
      },
      "source": [
        "### Problem 1.13 [If you have time] Pick one letter from the Korean alphabet to draw."
      ]
    },
    {
      "cell_type": "markdown",
      "metadata": {
        "id": "aZTFqKEM3G_g"
      },
      "source": [
        "Choose one letter from the [korean alphabet](https://www.90daykorean.com/how-to-learn-the-korean-alphabet/) to draw using the ```turtle``` library."
      ]
    }
  ]
}